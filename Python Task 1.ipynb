{
 "cells": [
  {
   "cell_type": "code",
   "execution_count": 27,
   "metadata": {},
   "outputs": [
    {
     "name": "stdout",
     "output_type": "stream",
     "text": [
      "7\n",
      "10\n",
      "19\n"
     ]
    }
   ],
   "source": [
    "\n",
    "#write a function to find the Max of three numbers\n",
    "def max_3_no(a,b,c):\n",
    "    if a > b and a > c:\n",
    "        return a\n",
    "    elif b > a and b > c:\n",
    "        return b\n",
    "    else:\n",
    "        return c\n",
    "    \n",
    "print(max_3_no(4,7,2))\n",
    "print(max_3_no(10,2,7))\n",
    "print(max_3_no(9,2,19))\n"
   ]
  },
  {
   "cell_type": "code",
   "execution_count": 10,
   "metadata": {},
   "outputs": [
    {
     "name": "stdout",
     "output_type": "stream",
     "text": [
      "52\n",
      "87\n"
     ]
    }
   ],
   "source": [
    "#write a python function to sum all the numbers in a list\n",
    "\n",
    "def add_all_number(L):\n",
    "    for i in L:\n",
    "        return (sum(L))\n",
    "\n",
    "aaa= [5,4,6,7,10,20]\n",
    "print(add_all_number(aaa))\n",
    "print(add_all_number((1,5,6,7,8,10,8,12,30)))\n",
    "\n",
    "\n",
    "\n"
   ]
  }
 ],
 "metadata": {
  "kernelspec": {
   "display_name": "Python 3",
   "language": "python",
   "name": "python3"
  },
  "language_info": {
   "codemirror_mode": {
    "name": "ipython",
    "version": 3
   },
   "file_extension": ".py",
   "mimetype": "text/x-python",
   "name": "python",
   "nbconvert_exporter": "python",
   "pygments_lexer": "ipython3",
   "version": "3.10.8"
  },
  "orig_nbformat": 4,
  "vscode": {
   "interpreter": {
    "hash": "6328ee2b25006b4ba8efb00a92225791b75b1b64215ca1044feba022def2f032"
   }
  }
 },
 "nbformat": 4,
 "nbformat_minor": 2
}
